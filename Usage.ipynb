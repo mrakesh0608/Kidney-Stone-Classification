{
 "cells": [
  {
   "cell_type": "code",
   "execution_count": 1,
   "id": "c46d1579",
   "metadata": {},
   "outputs": [],
   "source": [
    "from keras.models import load_model\n",
    "from skimage import io\n",
    "import cv2\n",
    "from keras.preprocessing.image import ImageDataGenerator"
   ]
  },
  {
   "cell_type": "code",
   "execution_count": 2,
   "id": "0514f67e",
   "metadata": {},
   "outputs": [],
   "source": [
    "img_size = 200\n",
    "classes = {0: 'glioma',\n",
    "           1: 'meningioma',\n",
    "           2: 'notumor',\n",
    "           3: 'pituitary'\n",
    "          }\n",
    "model = load_model('kidney_stone_classifier.h5')"
   ]
  },
  {
   "cell_type": "code",
   "execution_count": 21,
   "id": "db468e8f",
   "metadata": {},
   "outputs": [],
   "source": [
    "def predict_class():\n",
    "    train_datagen = ImageDataGenerator(rescale=1/255)\n",
    "    train_dataset = train_datagen.flow_from_directory('./dataset/val',\n",
    "                                                  target_size=(200, 200),\n",
    "                                                  class_mode='categorical', \n",
    "                                                  color_mode='grayscale', \n",
    "                                                  batch_size=100,\n",
    "                                                  )\n",
    "    \n",
    "    predictions = model.predict(train_dataset)\n",
    "    \n",
    "    pred_dict = {}\n",
    "    print(train_dataset,predictions)\n",
    "    for index in classes:\n",
    "        pred_dict[classes[index]] = predictions[0][index]\n",
    "    return pred_dict"
   ]
  },
  {
   "cell_type": "code",
   "execution_count": 22,
   "id": "99c6e728",
   "metadata": {},
   "outputs": [
    {
     "name": "stdout",
     "output_type": "stream",
     "text": [
      "Found 620 images belonging to 4 classes.\n",
      "7/7 [==============================] - 7s 977ms/step\n",
      "<keras.preprocessing.image.DirectoryIterator object at 0x00000212F1BDF610> [[9.9954873e-01 6.8015953e-07 4.4423304e-04 6.3127463e-06]\n",
      " [9.9999738e-01 6.0632184e-09 8.4159473e-07 1.8220466e-06]\n",
      " [9.9998903e-01 1.6020373e-07 6.8427616e-06 3.9756046e-06]\n",
      " ...\n",
      " [2.2272027e-06 9.9832731e-01 1.6268097e-03 4.3690368e-05]\n",
      " [1.2642710e-07 1.1391377e-03 7.2006427e-05 9.9878877e-01]\n",
      " [7.4901659e-06 9.9937111e-01 6.1697309e-04 4.4392582e-06]]\n"
     ]
    },
    {
     "data": {
      "text/plain": [
       "{'glioma': 0.99954873,\n",
       " 'meningioma': 6.8015953e-07,\n",
       " 'notumor': 0.00044423304,\n",
       " 'pituitary': 6.3127463e-06}"
      ]
     },
     "execution_count": 22,
     "metadata": {},
     "output_type": "execute_result"
    }
   ],
   "source": [
    "result = predict_class()\n",
    "result"
   ]
  },
  {
   "cell_type": "code",
   "execution_count": 15,
   "id": "ecf5cfd9",
   "metadata": {},
   "outputs": [
    {
     "data": {
      "text/plain": [
       "{'glioma': 0.99911886, 'notumor': 0.0008799506}"
      ]
     },
     "execution_count": 15,
     "metadata": {},
     "output_type": "execute_result"
    }
   ],
   "source": [
    "dict_dis = sorted(result.items(), key=lambda x: x[1], reverse=True)\n",
    "dict_dis = dict(sorted(result.items(), key=lambda x: x[1], reverse=True)[:2]) #top 2\n",
    "dict_dis"
   ]
  },
  {
   "cell_type": "code",
   "execution_count": 16,
   "id": "b2ca1197",
   "metadata": {},
   "outputs": [
    {
     "data": {
      "text/plain": [
       "'glioma'"
      ]
     },
     "execution_count": 16,
     "metadata": {},
     "output_type": "execute_result"
    }
   ],
   "source": [
    "max_val = max(dict_dis, key=dict_dis.get)\n",
    "max_val"
   ]
  },
  {
   "cell_type": "code",
   "execution_count": null,
   "id": "ca03a93d",
   "metadata": {},
   "outputs": [],
   "source": []
  }
 ],
 "metadata": {
  "kernelspec": {
   "display_name": "Python 3 (ipykernel)",
   "language": "python",
   "name": "python3"
  },
  "language_info": {
   "codemirror_mode": {
    "name": "ipython",
    "version": 3
   },
   "file_extension": ".py",
   "mimetype": "text/x-python",
   "name": "python",
   "nbconvert_exporter": "python",
   "pygments_lexer": "ipython3",
   "version": "3.11.2"
  }
 },
 "nbformat": 4,
 "nbformat_minor": 5
}
