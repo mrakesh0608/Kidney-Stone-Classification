{
 "cells": [
  {
   "cell_type": "code",
   "execution_count": null,
   "id": "7a443c87",
   "metadata": {},
   "outputs": [],
   "source": [
    "!pip install split-folders"
   ]
  },
  {
   "cell_type": "code",
   "execution_count": null,
   "id": "9a2a12f7",
   "metadata": {},
   "outputs": [],
   "source": [
    "import splitfolders"
   ]
  },
  {
   "cell_type": "code",
   "execution_count": null,
   "id": "f90e2a5f",
   "metadata": {},
   "outputs": [],
   "source": [
    "splitfolders.ratio(\n",
    "    \"./CT-KIDNEY-DATASET-Normal-Cyst-Tumor-Stone\",\n",
    "   output=\"./dataset\",\n",
    "   seed=7,\n",
    "   ratio=(0.90,0.050, 0.050)\n",
    ")"
   ]
  }
 ],
 "metadata": {
  "kernelspec": {
   "display_name": "Python 3 (ipykernel)",
   "language": "python",
   "name": "python3"
  },
  "language_info": {
   "codemirror_mode": {
    "name": "ipython",
    "version": 3
   },
   "file_extension": ".py",
   "mimetype": "text/x-python",
   "name": "python",
   "nbconvert_exporter": "python",
   "pygments_lexer": "ipython3",
   "version": "3.11.2"
  }
 },
 "nbformat": 4,
 "nbformat_minor": 5
}
