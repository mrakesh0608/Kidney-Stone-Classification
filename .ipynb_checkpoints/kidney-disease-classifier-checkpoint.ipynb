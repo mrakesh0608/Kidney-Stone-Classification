{
 "cells": [
  {
   "cell_type": "code",
   "execution_count": 2,
   "id": "6967b1d2",
   "metadata": {
    "execution": {
     "iopub.execute_input": "2021-12-04T09:23:20.422584Z",
     "iopub.status.busy": "2021-12-04T09:23:20.421577Z",
     "iopub.status.idle": "2021-12-04T09:23:27.360348Z",
     "shell.execute_reply": "2021-12-04T09:23:27.360983Z",
     "shell.execute_reply.started": "2021-12-04T09:05:24.594629Z"
    },
    "papermill": {
     "duration": 6.963341,
     "end_time": "2021-12-04T09:23:27.361192",
     "exception": false,
     "start_time": "2021-12-04T09:23:20.397851",
     "status": "completed"
    },
    "tags": []
   },
   "outputs": [],
   "source": [
    "from keras.preprocessing.image import ImageDataGenerator\n",
    "from keras.models import Sequential\n",
    "from keras.layers import Conv2D, Flatten, MaxPool2D, Dense\n",
    "import matplotlib.pyplot as plt\n",
    "\n",
    "import numpy as np\n",
    "from sklearn.metrics import confusion_matrix\n",
    "from sklearn.metrics import precision_recall_fscore_support\n",
    "import seaborn as sns"
   ]
  },
  {
   "cell_type": "code",
   "execution_count": 7,
   "id": "130819b3",
   "metadata": {
    "execution": {
     "iopub.execute_input": "2021-12-04T09:24:39.826207Z",
     "iopub.status.busy": "2021-12-04T09:24:39.825188Z",
     "iopub.status.idle": "2021-12-04T09:24:41.176044Z",
     "shell.execute_reply": "2021-12-04T09:24:41.174972Z",
     "shell.execute_reply.started": "2021-12-04T09:08:08.572202Z"
    },
    "papermill": {
     "duration": 1.566229,
     "end_time": "2021-12-04T09:24:41.176215",
     "exception": false,
     "start_time": "2021-12-04T09:24:39.609986",
     "status": "completed"
    },
    "tags": []
   },
   "outputs": [
    {
     "name": "stdout",
     "output_type": "stream",
     "text": [
      "Found 11200 images belonging to 4 classes.\n",
      "Found 626 images belonging to 4 classes.\n",
      "Found 620 images belonging to 4 classes.\n"
     ]
    }
   ],
   "source": [
    "train_datagen = ImageDataGenerator(rescale=1/255)\n",
    "valid_datagen = ImageDataGenerator(rescale=1/255)\n",
    "test_datagen = ImageDataGenerator(rescale=1/255)\n",
    "\n",
    "train_dataset = train_datagen.flow_from_directory('./dataset/train',\n",
    "                                                  target_size=(200, 200),\n",
    "                                                  class_mode='categorical', \n",
    "                                                  color_mode='grayscale', \n",
    "                                                  batch_size=100,\n",
    "                                                  )\n",
    "\n",
    "test_dataset = test_datagen.flow_from_directory('./dataset/test',\n",
    "                                                target_size=(200, 200),\n",
    "                                                class_mode='categorical',\n",
    "                                                color_mode='grayscale',\n",
    "                                                batch_size=100,\n",
    "                                                shuffle=False\n",
    "                                                )\n",
    "\n",
    "valid_dataset = valid_datagen.flow_from_directory('./dataset/val',\n",
    "                                                  target_size=(200, 200),\n",
    "                                                  class_mode='categorical',\n",
    "                                                  color_mode='grayscale',\n",
    "                                                  batch_size=100,\n",
    "                                                  )\n"
   ]
  },
  {
   "cell_type": "code",
   "execution_count": 8,
   "id": "76fd2210",
   "metadata": {
    "execution": {
     "iopub.execute_input": "2021-12-04T09:24:41.605703Z",
     "iopub.status.busy": "2021-12-04T09:24:41.604926Z",
     "iopub.status.idle": "2021-12-04T09:24:44.464280Z",
     "shell.execute_reply": "2021-12-04T09:24:44.465003Z",
     "shell.execute_reply.started": "2021-12-04T09:08:26.950077Z"
    },
    "papermill": {
     "duration": 3.080423,
     "end_time": "2021-12-04T09:24:44.465175",
     "exception": false,
     "start_time": "2021-12-04T09:24:41.384752",
     "status": "completed"
    },
    "tags": []
   },
   "outputs": [
    {
     "name": "stdout",
     "output_type": "stream",
     "text": [
      "Model: \"sequential\"\n",
      "_________________________________________________________________\n",
      " Layer (type)                Output Shape              Param #   \n",
      "=================================================================\n",
      " conv2d (Conv2D)             (None, 198, 198, 32)      320       \n",
      "                                                                 \n",
      " max_pooling2d (MaxPooling2D  (None, 99, 99, 32)       0         \n",
      " )                                                               \n",
      "                                                                 \n",
      " conv2d_1 (Conv2D)           (None, 97, 97, 32)        9248      \n",
      "                                                                 \n",
      " max_pooling2d_1 (MaxPooling  (None, 48, 48, 32)       0         \n",
      " 2D)                                                             \n",
      "                                                                 \n",
      " conv2d_2 (Conv2D)           (None, 46, 46, 64)        18496     \n",
      "                                                                 \n",
      " max_pooling2d_2 (MaxPooling  (None, 23, 23, 64)       0         \n",
      " 2D)                                                             \n",
      "                                                                 \n",
      " conv2d_3 (Conv2D)           (None, 21, 21, 64)        36928     \n",
      "                                                                 \n",
      " max_pooling2d_3 (MaxPooling  (None, 10, 10, 64)       0         \n",
      " 2D)                                                             \n",
      "                                                                 \n",
      " conv2d_4 (Conv2D)           (None, 8, 8, 128)         73856     \n",
      "                                                                 \n",
      " max_pooling2d_4 (MaxPooling  (None, 4, 4, 128)        0         \n",
      " 2D)                                                             \n",
      "                                                                 \n",
      " conv2d_5 (Conv2D)           (None, 2, 2, 128)         147584    \n",
      "                                                                 \n",
      " max_pooling2d_5 (MaxPooling  (None, 1, 1, 128)        0         \n",
      " 2D)                                                             \n",
      "                                                                 \n",
      " flatten (Flatten)           (None, 128)               0         \n",
      "                                                                 \n",
      " dense (Dense)               (None, 512)               66048     \n",
      "                                                                 \n",
      " dense_1 (Dense)             (None, 4)                 2052      \n",
      "                                                                 \n",
      "=================================================================\n",
      "Total params: 354,532\n",
      "Trainable params: 354,532\n",
      "Non-trainable params: 0\n",
      "_________________________________________________________________\n"
     ]
    }
   ],
   "source": [
    "model = Sequential()\n",
    "\n",
    "model.add(Conv2D(32, (3,3), activation='relu', input_shape=train_dataset.image_shape))\n",
    "model.add(MaxPool2D(2))\n",
    "\n",
    "model.add(Conv2D(32, (3,3), activation='relu'))\n",
    "model.add(MaxPool2D(2))\n",
    "\n",
    "\n",
    "model.add(Conv2D(64, (3,3), activation='relu'))\n",
    "model.add(MaxPool2D(2))\n",
    "\n",
    "model.add(Conv2D(64, (3,3), activation='relu'))\n",
    "model.add(MaxPool2D(2))\n",
    "\n",
    "\n",
    "model.add(Conv2D(128, (3,3), activation='relu'))\n",
    "model.add(MaxPool2D(2))\n",
    "\n",
    "model.add(Conv2D(128, (3,3), activation='relu'))\n",
    "model.add(MaxPool2D(2))\n",
    "\n",
    "\n",
    "model.add(Flatten())\n",
    "\n",
    "model.add(Dense(512, activation='relu'))\n",
    "\n",
    "\n",
    "model.add(Dense(4, activation='softmax'))\n",
    "\n",
    "model.summary()"
   ]
  },
  {
   "cell_type": "code",
   "execution_count": 9,
   "id": "52a8f51e",
   "metadata": {
    "execution": {
     "iopub.execute_input": "2021-12-04T09:24:44.873277Z",
     "iopub.status.busy": "2021-12-04T09:24:44.872237Z",
     "iopub.status.idle": "2021-12-04T09:24:44.889900Z",
     "shell.execute_reply": "2021-12-04T09:24:44.888856Z",
     "shell.execute_reply.started": "2021-12-04T09:08:53.269848Z"
    },
    "papermill": {
     "duration": 0.224595,
     "end_time": "2021-12-04T09:24:44.890016",
     "exception": false,
     "start_time": "2021-12-04T09:24:44.665421",
     "status": "completed"
    },
    "tags": []
   },
   "outputs": [],
   "source": [
    "import keras\n",
    "METRICS = [\n",
    "        'accuracy',\n",
    "        keras.metrics.Precision(name='precision'),\n",
    "        keras.metrics.Recall(name='recall')\n",
    "    ]\n",
    "    \n",
    "model.compile(optimizer='rmsprop', loss='categorical_crossentropy', metrics=METRICS)"
   ]
  },
  {
   "cell_type": "code",
   "execution_count": null,
   "id": "ac7a10c2",
   "metadata": {
    "execution": {
     "iopub.execute_input": "2021-12-04T09:24:45.293039Z",
     "iopub.status.busy": "2021-12-04T09:24:45.291930Z",
     "iopub.status.idle": "2021-12-04T09:33:57.768673Z",
     "shell.execute_reply": "2021-12-04T09:33:57.770267Z",
     "shell.execute_reply.started": "2021-12-04T09:09:02.441094Z"
    },
    "papermill": {
     "duration": 552.684713,
     "end_time": "2021-12-04T09:33:57.770883",
     "exception": false,
     "start_time": "2021-12-04T09:24:45.086170",
     "status": "completed"
    },
    "tags": []
   },
   "outputs": [
    {
     "name": "stdout",
     "output_type": "stream",
     "text": [
      "Epoch 1/5\n",
      "112/112 [==============================] - 286s 3s/step - loss: 1.1120 - accuracy: 0.5505 - precision: 0.6489 - recall: 0.3400 - val_loss: 0.8063 - val_accuracy: 0.6661 - val_precision: 0.7346 - val_recall: 0.6161\n",
      "Epoch 2/5\n",
      "112/112 [==============================] - 249s 2s/step - loss: 0.6447 - accuracy: 0.7491 - precision: 0.7939 - recall: 0.6978 - val_loss: 0.2694 - val_accuracy: 0.9258 - val_precision: 0.9444 - val_recall: 0.9048\n",
      "Epoch 3/5\n",
      "112/112 [==============================] - 241s 2s/step - loss: 0.2082 - accuracy: 0.9303 - precision: 0.9369 - recall: 0.9246 - val_loss: 0.0370 - val_accuracy: 0.9887 - val_precision: 0.9887 - val_recall: 0.9887\n",
      "Epoch 4/5\n",
      "  9/112 [=>............................] - ETA: 3:28 - loss: 0.3029 - accuracy: 0.8956 - precision: 0.9022 - recall: 0.8922"
     ]
    }
   ],
   "source": [
    "Info = model.fit(\n",
    "                 train_dataset,\n",
    "                 validation_data=valid_dataset,\n",
    "                 epochs=5,\n",
    "                 )"
   ]
  },
  {
   "cell_type": "code",
   "execution_count": null,
   "id": "91be550f",
   "metadata": {
    "execution": {
     "iopub.execute_input": "2021-12-04T09:33:58.860412Z",
     "iopub.status.busy": "2021-12-04T09:33:58.859605Z",
     "iopub.status.idle": "2021-12-04T09:33:59.641887Z",
     "shell.execute_reply": "2021-12-04T09:33:59.642469Z",
     "shell.execute_reply.started": "2021-12-04T09:16:22.902149Z"
    },
    "papermill": {
     "duration": 1.178087,
     "end_time": "2021-12-04T09:33:59.642679",
     "exception": false,
     "start_time": "2021-12-04T09:33:58.464592",
     "status": "completed"
    },
    "tags": []
   },
   "outputs": [],
   "source": [
    "fig, ax = plt.subplots(1, 4, figsize=(20, 3))\n",
    "ax = ax.ravel()\n",
    "\n",
    "for i, met in enumerate(['precision', 'recall', 'accuracy', 'loss']):\n",
    "    ax[i].plot(Info.history[met])\n",
    "    ax[i].plot(Info.history['val_' + met])\n",
    "    ax[i].set_title('Model {}'.format(met))\n",
    "    ax[i].set_xlabel('epochs')\n",
    "    ax[i].set_ylabel(met)\n",
    "    ax[i].legend(['train', 'val'])"
   ]
  },
  {
   "cell_type": "code",
   "execution_count": null,
   "id": "bec4a41b",
   "metadata": {
    "execution": {
     "iopub.execute_input": "2021-12-04T09:34:00.446652Z",
     "iopub.status.busy": "2021-12-04T09:34:00.445493Z",
     "iopub.status.idle": "2021-12-04T09:34:05.431121Z",
     "shell.execute_reply": "2021-12-04T09:34:05.430356Z",
     "shell.execute_reply.started": "2021-12-04T09:16:44.802774Z"
    },
    "papermill": {
     "duration": 5.398901,
     "end_time": "2021-12-04T09:34:05.431306",
     "exception": false,
     "start_time": "2021-12-04T09:34:00.032405",
     "status": "completed"
    },
    "tags": []
   },
   "outputs": [],
   "source": [
    "predictions = model.predict(test_dataset)"
   ]
  },
  {
   "cell_type": "code",
   "execution_count": null,
   "id": "e698f161",
   "metadata": {
    "execution": {
     "iopub.execute_input": "2021-12-04T09:34:06.196739Z",
     "iopub.status.busy": "2021-12-04T09:34:06.195582Z",
     "iopub.status.idle": "2021-12-04T09:34:06.198086Z",
     "shell.execute_reply": "2021-12-04T09:34:06.198593Z",
     "shell.execute_reply.started": "2021-12-04T09:16:56.163672Z"
    },
    "papermill": {
     "duration": 0.391404,
     "end_time": "2021-12-04T09:34:06.198764",
     "exception": false,
     "start_time": "2021-12-04T09:34:05.807360",
     "status": "completed"
    },
    "tags": []
   },
   "outputs": [],
   "source": [
    "diseases_labels = []\n",
    "\n",
    "for key, value in train_dataset.class_indices.items():\n",
    "   diseases_labels.append(key)"
   ]
  },
  {
   "cell_type": "code",
   "execution_count": null,
   "id": "eae454be",
   "metadata": {
    "execution": {
     "iopub.execute_input": "2021-12-04T09:34:06.988154Z",
     "iopub.status.busy": "2021-12-04T09:34:06.987166Z",
     "iopub.status.idle": "2021-12-04T09:34:06.995684Z",
     "shell.execute_reply": "2021-12-04T09:34:06.995149Z",
     "shell.execute_reply.started": "2021-12-04T09:17:10.7875Z"
    },
    "papermill": {
     "duration": 0.409278,
     "end_time": "2021-12-04T09:34:06.995875",
     "exception": false,
     "start_time": "2021-12-04T09:34:06.586597",
     "status": "completed"
    },
    "tags": []
   },
   "outputs": [],
   "source": [
    "def evaluate(actual, predictions):\n",
    "  pre = []\n",
    "  for i in predictions:\n",
    "    pre.append(np.argmax(i))\n",
    "\n",
    "  accuracy = (pre == actual).sum() / actual.shape[0]\n",
    "  print(f'Accuracy: {accuracy}')\n",
    "\n",
    "  precision, recall, f1_score, _ = precision_recall_fscore_support(actual, pre, average='macro')\n",
    "  print(f'Precision: {precision}')\n",
    "  print(f'Recall: {recall}')\n",
    "  print(f'F1_score: {f1_score}')\n",
    "\n",
    "  fig, ax = plt.subplots(figsize=(20,20))\n",
    "  conf_mat = confusion_matrix(actual, pre)\n",
    "  sns.heatmap(conf_mat, annot=True, fmt='.0f', cmap=\"YlGnBu\", xticklabels=diseases_labels, yticklabels=diseases_labels).set_title('Confusion Matrix Heat map')\n",
    "  plt.show()"
   ]
  },
  {
   "cell_type": "code",
   "execution_count": null,
   "id": "f48cd8c4",
   "metadata": {
    "execution": {
     "iopub.execute_input": "2021-12-04T09:34:07.781844Z",
     "iopub.status.busy": "2021-12-04T09:34:07.778067Z",
     "iopub.status.idle": "2021-12-04T09:34:08.148256Z",
     "shell.execute_reply": "2021-12-04T09:34:08.148809Z",
     "shell.execute_reply.started": "2021-12-04T09:17:20.099963Z"
    },
    "papermill": {
     "duration": 0.770555,
     "end_time": "2021-12-04T09:34:08.148994",
     "exception": false,
     "start_time": "2021-12-04T09:34:07.378439",
     "status": "completed"
    },
    "tags": []
   },
   "outputs": [],
   "source": [
    "evaluate(test_dataset.classes,predictions)"
   ]
  },
  {
   "cell_type": "code",
   "execution_count": null,
   "id": "fab2bf14",
   "metadata": {
    "execution": {
     "iopub.execute_input": "2021-12-04T09:34:09.110815Z",
     "iopub.status.busy": "2021-12-04T09:34:09.109554Z",
     "iopub.status.idle": "2021-12-04T09:34:14.083569Z",
     "shell.execute_reply": "2021-12-04T09:34:14.083040Z",
     "shell.execute_reply.started": "2021-12-04T09:17:43.378259Z"
    },
    "papermill": {
     "duration": 5.540728,
     "end_time": "2021-12-04T09:34:14.083808",
     "exception": false,
     "start_time": "2021-12-04T09:34:08.543080",
     "status": "completed"
    },
    "tags": []
   },
   "outputs": [],
   "source": [
    "model.evaluate(test_dataset)"
   ]
  },
  {
   "cell_type": "code",
   "execution_count": null,
   "id": "d72aea91",
   "metadata": {},
   "outputs": [],
   "source": [
    "model.save('kidney_stone_classifier.h5')"
   ]
  }
 ],
 "metadata": {
  "kernelspec": {
   "display_name": "Python 3 (ipykernel)",
   "language": "python",
   "name": "python3"
  },
  "language_info": {
   "codemirror_mode": {
    "name": "ipython",
    "version": 3
   },
   "file_extension": ".py",
   "mimetype": "text/x-python",
   "name": "python",
   "nbconvert_exporter": "python",
   "pygments_lexer": "ipython3",
   "version": "3.11.2"
  },
  "papermill": {
   "default_parameters": {},
   "duration": 678.068709,
   "end_time": "2021-12-04T09:34:17.196418",
   "environment_variables": {},
   "exception": null,
   "input_path": "__notebook__.ipynb",
   "output_path": "__notebook__.ipynb",
   "parameters": {},
   "start_time": "2021-12-04T09:22:59.127709",
   "version": "2.3.3"
  }
 },
 "nbformat": 4,
 "nbformat_minor": 5
}
